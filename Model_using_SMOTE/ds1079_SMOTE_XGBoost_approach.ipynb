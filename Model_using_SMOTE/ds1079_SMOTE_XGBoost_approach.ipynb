{
 "cells": [
  {
   "cell_type": "code",
   "execution_count": 47,
   "metadata": {},
   "outputs": [],
   "source": [
    "#importing neccessary libraries for data preprocessing\n",
    "import numpy as np # linear algebra\n",
    "import pandas as pd # data processing, CSV file I/O (e.g. pd.read_csv)\n",
    "import seaborn as sns\n",
    "from matplotlib import pyplot"
   ]
  },
  {
   "cell_type": "code",
   "execution_count": 48,
   "metadata": {},
   "outputs": [],
   "source": [
    "#Reading Data files\n",
    "data=pd.read_csv('C:/Users/MithunjhaAnandakumar/Downloads/data-storm-10/credit_card_default_train.csv')\n",
    "data_2=pd.read_csv('C:/Users/MithunjhaAnandakumar/Downloads/data-storm-10/credit_card_default_test.csv')\n",
    "#data.isna().sum()\n",
    "#There are no NaN values"
   ]
  },
  {
   "cell_type": "code",
   "execution_count": 49,
   "metadata": {},
   "outputs": [],
   "source": [
    "#train data\n",
    "ID=data.pop('Client_ID')  # not a feature\n",
    "balance=data.pop('Balance_Limit_V1') #for processing\n",
    "#test data\n",
    "ID_2=data_2.pop('Client_ID')\n",
    "balance_2=data_2.pop('Balance_Limit_V1')"
   ]
  },
  {
   "cell_type": "code",
   "execution_count": 50,
   "metadata": {},
   "outputs": [],
   "source": [
    "#convert M(millions), and K(thousands) to integers\n",
    "#train data\n",
    "for i in range (len(balance)):\n",
    "    if balance[i][-1]=='M':\n",
    "        balance[i]=float(balance[i][:-1])*1000000\n",
    "    elif balance[i][-1]=='K':\n",
    "        balance[i]=float(balance[i][:-1])*1000\n",
    "    else:\n",
    "         balance[i]=float(balance[i])*1\n",
    "#test data    \n",
    "for i in range (len(balance_2)):\n",
    "    if balance_2[i][-1]=='M':\n",
    "        balance_2[i]=float(balance_2[i][:-1])*1000000\n",
    "    elif balance_2[i][-1]=='K':\n",
    "        balance_2[i]=float(balance_2[i][:-1])*1000\n",
    "    else:\n",
    "         balance_2[i]=float(balance_2[i])*1\n",
    "\n",
    "#print(balance.head())\n",
    "balance=pd.to_numeric(balance)\n",
    "balance_2=pd.to_numeric(balance_2)\n",
    "#balance.dtype\n",
    "data=pd.concat([data,balance],axis=1)\n",
    "data_2=pd.concat([data_2,balance_2],axis=1)\n",
    "        \n",
    "                    "
   ]
  },
  {
   "cell_type": "markdown",
   "metadata": {},
   "source": [
    "### removing some features with low correlation & creating new features with high correlation"
   ]
  },
  {
   "cell_type": "code",
   "execution_count": 51,
   "metadata": {},
   "outputs": [],
   "source": [
    "#some data with low correlation removed\n",
    "#train data\n",
    "data.pop(\"EDUCATION_STATUS\")\n",
    "data.pop(\"MARITAL_STATUS\")\n",
    "data.pop(\"AGE\")\n",
    "data.pop(\"Gender\")\n",
    "due_july=data.pop('DUE_AMT_JULY')\n",
    "due_aug=data.pop('DUE_AMT_AUG')\n",
    "due_sep=data.pop('DUE_AMT_SEP')\n",
    "due_oct=data.pop('DUE_AMT_OCT')\n",
    "due_nov=data.pop('DUE_AMT_NOV')    \n",
    "due_dec=data.pop('DUE_AMT_DEC')\n",
    "paid_july=data.pop('PAID_AMT_JULY')\n",
    "paid_aug=data.pop('PAID_AMT_AUG')\n",
    "paid_sep=data.pop('PAID_AMT_SEP')\n",
    "paid_oct=data.pop('PAID_AMT_OCT')\n",
    "paid_nov=data.pop('PAID_AMT_NOV')\n",
    "paid_dec=data.pop('PAID_AMT_DEC')\n",
    "\n",
    "#test data\n",
    "data_2.pop(\"EDUCATION_STATUS\")\n",
    "data_2.pop(\"MARITAL_STATUS\")\n",
    "data_2.pop(\"AGE\")\n",
    "data_2.pop(\"Gender\")\n",
    "due_july2=data_2.pop('DUE_AMT_JULY')\n",
    "due_aug2=data_2.pop('DUE_AMT_AUG')\n",
    "due_sep2=data_2.pop('DUE_AMT_SEP')\n",
    "due_oct2=data_2.pop('DUE_AMT_OCT')\n",
    "due_nov2=data_2.pop('DUE_AMT_NOV')    \n",
    "due_dec2=data_2.pop('DUE_AMT_DEC')\n",
    "paid_july2=data_2.pop('PAID_AMT_JULY')\n",
    "paid_aug2=data_2.pop('PAID_AMT_AUG')\n",
    "paid_sep2=data_2.pop('PAID_AMT_SEP')\n",
    "paid_oct2=data_2.pop('PAID_AMT_OCT')\n",
    "paid_nov2=data_2.pop('PAID_AMT_NOV')\n",
    "paid_dec2=data_2.pop('PAID_AMT_DEC')"
   ]
  },
  {
   "cell_type": "code",
   "execution_count": 52,
   "metadata": {},
   "outputs": [],
   "source": [
    "#payment history pay tot\n",
    "#Creating new feature pay_mean\n",
    "#payment history pay_mean\n",
    "#mean of payments made in months whther its early payment or due\n",
    "\n",
    "data_copy=data.copy()\n",
    "pay_july=data_copy.pop('PAY_JULY')   # these features are good\n",
    "pay_aug=data_copy.pop('PAY_AUG')\n",
    "pay_sep=data_copy.pop('PAY_SEP')\n",
    "pay_oct=data_copy.pop('PAY_OCT')\n",
    "pay_nov=data_copy.pop('PAY_NOV')\n",
    "pay_dec=data_copy.pop('PAY_DEC')\n",
    "\n",
    "pay_tot=(pay_july+pay_aug+pay_sep+pay_oct+pay_nov+pay_dec)\n",
    "pd.to_numeric(pay_tot)\n",
    "data=pd.concat([data,pay_tot.rename(\"pay_tot\")],axis=1)\n",
    "\n",
    "#good pay data\n",
    "#creating new feature - good_pay\n",
    "#New feature to find whether the customar is a good pay,, pays on time\n",
    "#good pay data\n",
    "good_pay=pay_july.copy()\n",
    "\n",
    "for i in range (len(pay_aug)):\n",
    "    good_pay[i]=0\n",
    "    if pay_july[i]<1:\n",
    "        good_pay[i]+=1\n",
    "    if pay_aug[i]<1:\n",
    "        good_pay[i]+=1\n",
    "    if pay_sep[i]<1:\n",
    "        good_pay[i]+=1\n",
    "    if pay_oct[i]<1:\n",
    "        good_pay[i]+=1\n",
    "    if pay_nov[i]<1:\n",
    "        good_pay[i]+=1\n",
    "    if pay_dec[i]<1:\n",
    "        good_pay[i]+=1\n",
    "        \n",
    "data=pd.concat([data,good_pay.rename(\"good_pay\")],axis=1)\n",
    "\n",
    "#repeat above process for test data\n",
    "data2_copy=data_2.copy()\n",
    "pay_july2=data2_copy.pop('PAY_JULY')   # these features are good\n",
    "pay_aug2=data2_copy.pop('PAY_AUG')\n",
    "pay_sep2=data2_copy.pop('PAY_SEP')\n",
    "pay_oct2=data2_copy.pop('PAY_OCT')\n",
    "pay_nov2=data2_copy.pop('PAY_NOV')\n",
    "pay_dec2=data2_copy.pop('PAY_DEC')\n",
    "\n",
    "pay_tot2=(pay_july2+pay_aug2+pay_sep2+pay_oct2+pay_nov2+pay_dec2)\n",
    "pd.to_numeric(pay_tot)\n",
    "data_2=pd.concat([data_2,pay_tot2.rename(\"pay_tot\")],axis=1)\n",
    "\n",
    "#good pay data\n",
    "good_pay2=pay_july2.copy()\n",
    "\n",
    "for i in range (len(pay_aug2)):\n",
    "    good_pay2[i]=0\n",
    "    if pay_july2[i]<1:\n",
    "        good_pay2[i]+=1\n",
    "    if pay_aug2[i]<1:\n",
    "        good_pay2[i]+=1\n",
    "    if pay_sep2[i]<1:\n",
    "        good_pay2[i]+=1\n",
    "    if pay_oct2[i]<1:\n",
    "        good_pay2[i]+=1\n",
    "    if pay_nov2[i]<1:\n",
    "        good_pay2[i]+=1\n",
    "    if pay_dec2[i]<1:\n",
    "        good_pay2[i]+=1\n",
    "        \n",
    "data_2=pd.concat([data_2,good_pay2.rename(\"good_pay\")],axis=1)"
   ]
  },
  {
   "cell_type": "code",
   "execution_count": 53,
   "metadata": {},
   "outputs": [
    {
     "data": {
      "image/png": "[encoded data removed]",
      "text/plain": [
       "<Figure size 1440x1440 with 2 Axes>"
      ]
     },
     "metadata": {
      "needs_background": "light"
     },
     "output_type": "display_data"
    }
   ],
   "source": [
    "#heat map\n",
    "#correlations between each features\n",
    "import pandas as pd\n",
    "import numpy as np\n",
    "import matplotlib.pyplot as plt\n",
    "\n",
    "corrmat = data.corr()\n",
    "top_corr_features = corrmat.index\n",
    "plt.figure(figsize=(20,20))\n",
    "#plot heat map\n",
    "g=sns.heatmap(data[top_corr_features].corr(),annot=True,cmap=\"RdYlGn\")"
   ]
  },
  {
   "cell_type": "code",
   "execution_count": 54,
   "metadata": {},
   "outputs": [],
   "source": [
    "#y_train\n",
    "Labels=data.pop('NEXT_MONTH_DEFAULT')"
   ]
  },
  {
   "cell_type": "code",
   "execution_count": 55,
   "metadata": {},
   "outputs": [],
   "source": [
    "# Feature Scaling\n",
    "from sklearn.preprocessing import StandardScaler\n",
    "sc = StandardScaler()\n",
    "data = sc.fit_transform(data)\n",
    "data_2 = sc.transform(data_2)"
   ]
  },
  {
   "cell_type": "code",
   "execution_count": 56,
   "metadata": {},
   "outputs": [],
   "source": [
    "data=pd.DataFrame(data)\n",
    "data_2=pd.DataFrame(data_2)"
   ]
  },
  {
   "cell_type": "code",
   "execution_count": 57,
   "metadata": {},
   "outputs": [],
   "source": [
    "#libraries required for machine learning model\n",
    "from sklearn.model_selection import train_test_split\n",
    "from sklearn.tree import DecisionTreeClassifier\n",
    "from sklearn.metrics import accuracy_score, confusion_matrix, f1_score\n",
    "import xgboost\n",
    "from sklearn.metrics import precision_score,roc_auc_score\n",
    "from sklearn.metrics import classification_report \n",
    "from sklearn.metrics import confusion_matrix "
   ]
  },
  {
   "cell_type": "code",
   "execution_count": 58,
   "metadata": {},
   "outputs": [],
   "source": [
    "#split data\n",
    "train_data, test_data, train_label, test_label = train_test_split(data,Labels,test_size = 0.2,random_state = 100)"
   ]
  },
  {
   "cell_type": "code",
   "execution_count": 59,
   "metadata": {},
   "outputs": [
    {
     "name": "stdout",
     "output_type": "stream",
     "text": [
      "Train accuracy\n",
      "0.8258854166666667\n",
      "Test accuracy\n",
      "0.8177083333333334\n",
      "F1-Score\n",
      "0.4667885435709933\n",
      "Classification Report\n",
      "              precision    recall  f1-score   support\n",
      "\n",
      "           0       0.85      0.94      0.89      3773\n",
      "           1       0.62      0.37      0.47      1027\n",
      "\n",
      "    accuracy                           0.82      4800\n",
      "   macro avg       0.73      0.66      0.68      4800\n",
      "weighted avg       0.80      0.82      0.80      4800\n",
      "\n",
      "Confusion Matrix\n",
      "[[3542  231]\n",
      " [ 644  383]]\n"
     ]
    }
   ],
   "source": [
    "#Decision tree approach\n",
    "clf = DecisionTreeClassifier(max_depth=7).fit(train_data,train_label)\n",
    "y_predict=clf.predict(test_data)\n",
    "print(\"Train accuracy\")\n",
    "print(format(clf.score(train_data,train_label)))\n",
    "print(\"Test accuracy\")\n",
    "print(format(clf.score(test_data,test_label)))\n",
    "print(\"F1-Score\")\n",
    "print(f1_score(test_label,y_predict))\n",
    "print(\"Classification Report\")\n",
    "print(classification_report(test_label,y_predict))\n",
    "print(\"Confusion Matrix\")\n",
    "print(confusion_matrix(test_label,y_predict))"
   ]
  },
  {
   "cell_type": "code",
   "execution_count": 60,
   "metadata": {},
   "outputs": [
    {
     "name": "stdout",
     "output_type": "stream",
     "text": [
      "Train accuracy\n",
      "0.82015625\n",
      "Test accuracy\n",
      "0.8229166666666666\n",
      "F1-Score\n",
      "0.4674185463659148\n",
      "Classification Report\n",
      "              precision    recall  f1-score   support\n",
      "\n",
      "           0       0.85      0.95      0.89      3773\n",
      "           1       0.66      0.36      0.47      1027\n",
      "\n",
      "    accuracy                           0.82      4800\n",
      "   macro avg       0.75      0.66      0.68      4800\n",
      "weighted avg       0.80      0.82      0.80      4800\n",
      "\n",
      "Confusion Matrix\n",
      "[[3577  196]\n",
      " [ 654  373]]\n"
     ]
    }
   ],
   "source": [
    "#XGB approach\n",
    "clf = DecisionTreeClassifier(max_depth=50)\n",
    "model=xgboost.XGBClassifier(base_estimator=clf,max_depth=2,eta=0.2,n_estimators=18,objective='binary:logistic',gamma=8.154,learning_rate=0.64,reg_lambda=6.85).fit(train_data,train_label)\n",
    "y_predict=model.predict(test_data)\n",
    "print(\"Train accuracy\")\n",
    "print(format(model.score(train_data,train_label)))\n",
    "print(\"Test accuracy\")\n",
    "print(format(model.score(test_data,test_label)))\n",
    "print(\"F1-Score\")\n",
    "print(f1_score(test_label,y_predict))\n",
    "print(\"Classification Report\")\n",
    "print(classification_report(test_label,y_predict))\n",
    "print(\"Confusion Matrix\")\n",
    "print(confusion_matrix(test_label,y_predict))"
   ]
  },
  {
   "cell_type": "markdown",
   "metadata": {},
   "source": [
    "### SMOTE-Oversampling (handle biased dataset)"
   ]
  },
  {
   "cell_type": "code",
   "execution_count": 61,
   "metadata": {},
   "outputs": [
    {
     "name": "stdout",
     "output_type": "stream",
     "text": [
      "Train accuracy\n",
      "0.7867708333333333\n",
      "Test accuracy\n",
      "0.8095833333333333\n",
      "F1-Score\n",
      "0.5834092980856882\n",
      "Classification Report\n",
      "              precision    recall  f1-score   support\n",
      "\n",
      "           0       0.88      0.87      0.88      3730\n",
      "           1       0.57      0.60      0.58      1070\n",
      "\n",
      "    accuracy                           0.81      4800\n",
      "   macro avg       0.73      0.73      0.73      4800\n",
      "weighted avg       0.81      0.81      0.81      4800\n",
      "\n",
      "Confusion Matrix\n",
      "[[3246  484]\n",
      " [ 430  640]]\n"
     ]
    }
   ],
   "source": [
    "train_data, test_data, train_label, test_label = train_test_split(data,Labels,test_size=0.2,shuffle=True,random_state=505)#505\n",
    "from imblearn.over_sampling import SMOTE \n",
    "sm = SMOTE(random_state = 2) \n",
    "X_train_res, y_train_res = sm.fit_sample(train_data,train_label) \n",
    "\n",
    "\n",
    "clf = DecisionTreeClassifier(max_depth=50)\n",
    "model=xgboost.XGBClassifier(base_estimator=clf,max_depth=3,eta=0.2,n_estimators=26,objective='binary:logistic',gamma=8.83,learning_rate=0.64,reg_lambda=6.85).fit(X_train_res, y_train_res)\n",
    "y_predict=model.predict(test_data)\n",
    "print(\"Train accuracy\")\n",
    "print(format(model.score(train_data,train_label)))\n",
    "print(\"Test accuracy\")\n",
    "print(format(model.score(test_data,test_label)))\n",
    "print(\"F1-Score\")\n",
    "print(f1_score(test_label,y_predict))\n",
    "print(\"Classification Report\")\n",
    "print(classification_report(test_label,y_predict))\n",
    "print(\"Confusion Matrix\")\n",
    "print(confusion_matrix(test_label,y_predict))\n"
   ]
  },
  {
   "cell_type": "markdown",
   "metadata": {},
   "source": [
    "### Below markdowns are used for hypertuning"
   ]
  },
  {
   "cell_type": "markdown",
   "metadata": {},
   "source": [
    "from imblearn.over_sampling import SMOTE \n",
    "x=np.linspace(0,10,num=1001,dtype=float)\n",
    "AUC=[]\n",
    "F=[]\n",
    "TestAcc=[]\n",
    "TrainAcc=[]\n",
    "clf = DecisionTreeClassifier(max_depth=50)\n",
    "for i in x:\n",
    "    print(i)\n",
    "    train_data, test_data, train_label, test_label = train_test_split(data,Labels,test_size=0.2,shuffle=True,random_state=505)\n",
    "    sm = SMOTE(random_state = 2) \n",
    "    X_train_res, y_train_res = sm.fit_sample(train_data,train_label) \n",
    "    model=xgboost.XGBClassifier(base_estimator=clf,max_depth=3,n_estimators=26,objective='binary:logistic',gamma=8.83,learning_rate=0.64,reg_lambda=i).fit(X_train_res, y_train_res)\n",
    "    y_pred= model.predict(test_data)\n",
    "    test=model.score(test_data,test_label)\n",
    "    TestAcc.append(test)\n",
    "    train=model.score(train_data,train_label)\n",
    "    TrainAcc.append(train)\n",
    "    f=f1_score(test_label,y_pred)\n",
    "    F.append(f)\n",
    "    auc=roc_auc_score(test_label,y_pred)\n",
    "    AUC.append(auc)\n",
    "import matplotlib.pyplot as plt\n",
    "plt.plot(x,AUC)\n",
    "plt.title('AUC Score')\n",
    "plt.ylabel('Auc')\n",
    "plt.xlabel('Parameters')\n",
    "plt.show()\n",
    "plt.plot(x,F)\n",
    "plt.title('F1 Score')\n",
    "plt.ylabel('F1')\n",
    "plt.xlabel('Parameters')\n",
    "plt.show()\n",
    "plt.plot(x,TrainAcc)\n",
    "plt.title('Train')\n",
    "plt.ylabel('Train')\n",
    "plt.xlabel('Parameters')\n",
    "plt.show()\n",
    "plt.plot(x,TestAcc)\n",
    "plt.title('Test')\n",
    "plt.ylabel('Test')\n",
    "plt.xlabel('Parameters')\n",
    "plt.show()\n",
    "print(max(TrainAcc))\n",
    "print(x[TrainAcc.index(max(TrainAcc))])\n",
    "print(max(TestAcc))\n",
    "print(x[TestAcc.index(max(TestAcc))])\n",
    "print(max(F))\n",
    "print(x[F.index(max(F))])\n",
    "print(max(AUC))\n",
    "print(x[AUC.index(max(AUC))])"
   ]
  },
  {
   "cell_type": "markdown",
   "metadata": {},
   "source": [
    "print(max(TrainAcc))\n",
    "print(x[TrainAcc.index(max(TrainAcc))])\n",
    "print(max(TestAcc))\n",
    "print(x[TestAcc.index(max(TestAcc))])\n",
    "print(max(F))\n",
    "print(x[F.index(max(F))])\n",
    "print(max(AUC))\n",
    "print(x[AUC.index(max(AUC))])"
   ]
  },
  {
   "cell_type": "code",
   "execution_count": 62,
   "metadata": {},
   "outputs": [],
   "source": [
    "#from imblearn.under_sampling import NearMiss \n",
    "#nr = NearMiss()\n",
    "#X_train_res, y_train_res = sm.fit_sample(train_data,train_label) \n",
    "\n",
    "#clf = DecisionTreeClassifier(max_depth=50)\n",
    "#model=xgboost.XGBClassifier(base_estimator=clf,max_depth=6,eta=0.2,n_estimators=19,objective='binary:logistic',gamma=8.417,learning_rate=0.76,reg_lambda=6.85).fit(X_train_res, y_train_res)\n",
    "#y_predict=model.predict(test_data)\n"
   ]
  },
  {
   "cell_type": "code",
   "execution_count": 63,
   "metadata": {},
   "outputs": [
    {
     "name": "stdout",
     "output_type": "stream",
     "text": [
      "[0 0 0 0 0 0 1 0 0 0 1 1 0 0 1 0 0 1 0 0 0 0 0 1 1 0 0 0 0 1 0 0 0 0 0 0 0\n",
      " 0 0 0 1 0 1 0 0 0 1 0 0 0 0 0 0 0 1 1 0 0 0 1 0 0 0 0 0 0 0 0 0 0 0 0 1 0\n",
      " 0 0 0 0 0 0 0 0 1 0 1 0 0 0 0 0 0 0 0 0 0 0 0 0 0 0]\n"
     ]
    }
   ],
   "source": [
    "submit=pd.read_csv('C:/Users/MithunjhaAnandakumar/Downloads/data-storm-10/submit.csv')\n",
    "submit.pop('NEXT_MONTH_DEFAULT')\n",
    "predic=model.predict(data_2)\n",
    "print(predic[0:100])\n",
    "result=pd.DataFrame(predic,columns=['NEXT_MONTH_DEFAULT'])\n",
    "submit=pd.concat([submit,result],axis=1)"
   ]
  },
  {
   "cell_type": "code",
   "execution_count": 64,
   "metadata": {},
   "outputs": [],
   "source": [
    "export_csv=submit.to_csv('C:/Users/MithunjhaAnandakumar/Downloads/data-storm-10/submit.csv')"
   ]
  }
 ],
 "metadata": {
  "kernelspec": {
   "display_name": "Python 3",
   "language": "python",
   "name": "python3"
  },
  "language_info": {
   "codemirror_mode": {
    "name": "ipython",
    "version": 3
   },
   "file_extension": ".py",
   "mimetype": "text/x-python",
   "name": "python",
   "nbconvert_exporter": "python",
   "pygments_lexer": "ipython3",
   "version": "3.7.3"
  }
 },
 "nbformat": 4,
 "nbformat_minor": 2
}
